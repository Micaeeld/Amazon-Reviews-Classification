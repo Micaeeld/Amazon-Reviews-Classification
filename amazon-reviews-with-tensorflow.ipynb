{
 "cells": [
  {
   "cell_type": "markdown",
   "id": "303e1a4f",
   "metadata": {
    "papermill": {
     "duration": 0.007356,
     "end_time": "2023-05-02T12:28:49.774121",
     "exception": false,
     "start_time": "2023-05-02T12:28:49.766765",
     "status": "completed"
    },
    "tags": []
   },
   "source": [
    "# 📚 Imports\n",
    "---"
   ]
  },
  {
   "cell_type": "code",
   "execution_count": 1,
   "id": "952033d8",
   "metadata": {
    "execution": {
     "iopub.execute_input": "2023-05-02T12:28:49.789434Z",
     "iopub.status.busy": "2023-05-02T12:28:49.789021Z",
     "iopub.status.idle": "2023-05-02T12:28:57.015672Z",
     "shell.execute_reply": "2023-05-02T12:28:57.014711Z"
    },
    "papermill": {
     "duration": 7.236976,
     "end_time": "2023-05-02T12:28:57.018050",
     "exception": false,
     "start_time": "2023-05-02T12:28:49.781074",
     "status": "completed"
    },
    "tags": []
   },
   "outputs": [
    {
     "name": "stderr",
     "output_type": "stream",
     "text": [
      "/opt/conda/lib/python3.10/site-packages/scipy/__init__.py:146: UserWarning: A NumPy version >=1.16.5 and <1.23.0 is required for this version of SciPy (detected version 1.23.5\n",
      "  warnings.warn(f\"A NumPy version >={np_minversion} and <{np_maxversion}\"\n"
     ]
    }
   ],
   "source": [
    "import pandas as pd\n",
    "import re\n",
    "import string\n",
    "import collections\n",
    "import matplotlib.pyplot as plt\n",
    "\n",
    "import nltk\n",
    "from nltk.corpus import stopwords\n",
    "from nltk.tokenize import word_tokenize\n",
    "from nltk.stem import WordNetLemmatizer, SnowballStemmer\n",
    "\n",
    "import tensorflow as tf\n",
    "from tensorflow.keras.layers import Embedding, Dense, GlobalAveragePooling1D\n",
    "from tensorflow.keras.preprocessing.text import Tokenizer\n",
    "from tensorflow.keras.preprocessing.sequence import pad_sequences"
   ]
  },
  {
   "cell_type": "markdown",
   "id": "d4440e19",
   "metadata": {
    "papermill": {
     "duration": 0.006604,
     "end_time": "2023-05-02T12:28:57.031966",
     "exception": false,
     "start_time": "2023-05-02T12:28:57.025362",
     "status": "completed"
    },
    "tags": []
   },
   "source": [
    "# 📖 Data \n",
    "---"
   ]
  },
  {
   "cell_type": "code",
   "execution_count": 2,
   "id": "dadfb731",
   "metadata": {
    "execution": {
     "iopub.execute_input": "2023-05-02T12:28:57.047893Z",
     "iopub.status.busy": "2023-05-02T12:28:57.046665Z",
     "iopub.status.idle": "2023-05-02T12:29:36.217801Z",
     "shell.execute_reply": "2023-05-02T12:29:36.216894Z"
    },
    "papermill": {
     "duration": 39.181972,
     "end_time": "2023-05-02T12:29:36.220641",
     "exception": false,
     "start_time": "2023-05-02T12:28:57.038669",
     "status": "completed"
    },
    "tags": []
   },
   "outputs": [],
   "source": [
    "df_train = pd.read_csv('/kaggle/input/amazon-reviews/train.csv')\n",
    "df_test = pd.read_csv('/kaggle/input/amazon-reviews/test.csv')"
   ]
  },
  {
   "cell_type": "code",
   "execution_count": 3,
   "id": "fcb99777",
   "metadata": {
    "execution": {
     "iopub.execute_input": "2023-05-02T12:29:36.242898Z",
     "iopub.status.busy": "2023-05-02T12:29:36.242541Z",
     "iopub.status.idle": "2023-05-02T12:29:36.263418Z",
     "shell.execute_reply": "2023-05-02T12:29:36.262651Z"
    },
    "papermill": {
     "duration": 0.03441,
     "end_time": "2023-05-02T12:29:36.265720",
     "exception": false,
     "start_time": "2023-05-02T12:29:36.231310",
     "status": "completed"
    },
    "tags": []
   },
   "outputs": [
    {
     "data": {
      "text/html": [
       "<div>\n",
       "<style scoped>\n",
       "    .dataframe tbody tr th:only-of-type {\n",
       "        vertical-align: middle;\n",
       "    }\n",
       "\n",
       "    .dataframe tbody tr th {\n",
       "        vertical-align: top;\n",
       "    }\n",
       "\n",
       "    .dataframe thead th {\n",
       "        text-align: right;\n",
       "    }\n",
       "</style>\n",
       "<table border=\"1\" class=\"dataframe\">\n",
       "  <thead>\n",
       "    <tr style=\"text-align: right;\">\n",
       "      <th></th>\n",
       "      <th>2</th>\n",
       "      <th>Stuning even for the non-gamer</th>\n",
       "      <th>This sound track was beautiful! It paints the senery in your mind so well I would recomend it even to people who hate vid. game music! I have played the game Chrono Cross but out of all of the games I have ever played it has the best music! It backs away from crude keyboarding and takes a fresher step with grate guitars and soulful orchestras. It would impress anyone who cares to listen! ^_^</th>\n",
       "    </tr>\n",
       "  </thead>\n",
       "  <tbody>\n",
       "    <tr>\n",
       "      <th>0</th>\n",
       "      <td>2</td>\n",
       "      <td>The best soundtrack ever to anything.</td>\n",
       "      <td>I'm reading a lot of reviews saying that this ...</td>\n",
       "    </tr>\n",
       "    <tr>\n",
       "      <th>1</th>\n",
       "      <td>2</td>\n",
       "      <td>Amazing!</td>\n",
       "      <td>This soundtrack is my favorite music of all ti...</td>\n",
       "    </tr>\n",
       "    <tr>\n",
       "      <th>2</th>\n",
       "      <td>2</td>\n",
       "      <td>Excellent Soundtrack</td>\n",
       "      <td>I truly like this soundtrack and I enjoy video...</td>\n",
       "    </tr>\n",
       "    <tr>\n",
       "      <th>3</th>\n",
       "      <td>2</td>\n",
       "      <td>Remember, Pull Your Jaw Off The Floor After He...</td>\n",
       "      <td>If you've played the game, you know how divine...</td>\n",
       "    </tr>\n",
       "    <tr>\n",
       "      <th>4</th>\n",
       "      <td>2</td>\n",
       "      <td>an absolute masterpiece</td>\n",
       "      <td>I am quite sure any of you actually taking the...</td>\n",
       "    </tr>\n",
       "  </tbody>\n",
       "</table>\n",
       "</div>"
      ],
      "text/plain": [
       "   2                     Stuning even for the non-gamer  \\\n",
       "0  2              The best soundtrack ever to anything.   \n",
       "1  2                                           Amazing!   \n",
       "2  2                               Excellent Soundtrack   \n",
       "3  2  Remember, Pull Your Jaw Off The Floor After He...   \n",
       "4  2                            an absolute masterpiece   \n",
       "\n",
       "  This sound track was beautiful! It paints the senery in your mind so well I would recomend it even to people who hate vid. game music! I have played the game Chrono Cross but out of all of the games I have ever played it has the best music! It backs away from crude keyboarding and takes a fresher step with grate guitars and soulful orchestras. It would impress anyone who cares to listen! ^_^  \n",
       "0  I'm reading a lot of reviews saying that this ...                                                                                                                                                                                                                                                                                                                                                          \n",
       "1  This soundtrack is my favorite music of all ti...                                                                                                                                                                                                                                                                                                                                                          \n",
       "2  I truly like this soundtrack and I enjoy video...                                                                                                                                                                                                                                                                                                                                                          \n",
       "3  If you've played the game, you know how divine...                                                                                                                                                                                                                                                                                                                                                          \n",
       "4  I am quite sure any of you actually taking the...                                                                                                                                                                                                                                                                                                                                                          "
      ]
     },
     "execution_count": 3,
     "metadata": {},
     "output_type": "execute_result"
    }
   ],
   "source": [
    "df_train.head()"
   ]
  },
  {
   "cell_type": "code",
   "execution_count": 4,
   "id": "a6ccb584",
   "metadata": {
    "execution": {
     "iopub.execute_input": "2023-05-02T12:29:36.288750Z",
     "iopub.status.busy": "2023-05-02T12:29:36.288437Z",
     "iopub.status.idle": "2023-05-02T12:29:36.311731Z",
     "shell.execute_reply": "2023-05-02T12:29:36.310968Z"
    },
    "papermill": {
     "duration": 0.037367,
     "end_time": "2023-05-02T12:29:36.313957",
     "exception": false,
     "start_time": "2023-05-02T12:29:36.276590",
     "status": "completed"
    },
    "tags": []
   },
   "outputs": [
    {
     "name": "stdout",
     "output_type": "stream",
     "text": [
      "<class 'pandas.core.frame.DataFrame'>\n",
      "RangeIndex: 3599999 entries, 0 to 3599998\n",
      "Data columns (total 3 columns):\n",
      " #   Column                                                                                                                                                                                                                                                                                                                                                                                                      Dtype \n",
      "---  ------                                                                                                                                                                                                                                                                                                                                                                                                      ----- \n",
      " 0   2                                                                                                                                                                                                                                                                                                                                                                                                           int64 \n",
      " 1   Stuning even for the non-gamer                                                                                                                                                                                                                                                                                                                                                                              object\n",
      " 2   This sound track was beautiful! It paints the senery in your mind so well I would recomend it even to people who hate vid. game music! I have played the game Chrono Cross but out of all of the games I have ever played it has the best music! It backs away from crude keyboarding and takes a fresher step with grate guitars and soulful orchestras. It would impress anyone who cares to listen! ^_^  object\n",
      "dtypes: int64(1), object(2)\n",
      "memory usage: 82.4+ MB\n"
     ]
    }
   ],
   "source": [
    "df_train.info()"
   ]
  },
  {
   "cell_type": "markdown",
   "id": "7de82d06",
   "metadata": {
    "papermill": {
     "duration": 0.010913,
     "end_time": "2023-05-02T12:29:36.336089",
     "exception": false,
     "start_time": "2023-05-02T12:29:36.325176",
     "status": "completed"
    },
    "tags": []
   },
   "source": [
    "### Insert columns"
   ]
  },
  {
   "cell_type": "code",
   "execution_count": 5,
   "id": "5abc3539",
   "metadata": {
    "execution": {
     "iopub.execute_input": "2023-05-02T12:29:36.358812Z",
     "iopub.status.busy": "2023-05-02T12:29:36.358468Z",
     "iopub.status.idle": "2023-05-02T12:29:36.372073Z",
     "shell.execute_reply": "2023-05-02T12:29:36.371317Z"
    },
    "papermill": {
     "duration": 0.027844,
     "end_time": "2023-05-02T12:29:36.374426",
     "exception": false,
     "start_time": "2023-05-02T12:29:36.346582",
     "status": "completed"
    },
    "tags": []
   },
   "outputs": [
    {
     "data": {
      "text/html": [
       "<div>\n",
       "<style scoped>\n",
       "    .dataframe tbody tr th:only-of-type {\n",
       "        vertical-align: middle;\n",
       "    }\n",
       "\n",
       "    .dataframe tbody tr th {\n",
       "        vertical-align: top;\n",
       "    }\n",
       "\n",
       "    .dataframe thead th {\n",
       "        text-align: right;\n",
       "    }\n",
       "</style>\n",
       "<table border=\"1\" class=\"dataframe\">\n",
       "  <thead>\n",
       "    <tr style=\"text-align: right;\">\n",
       "      <th></th>\n",
       "      <th>label</th>\n",
       "      <th>title</th>\n",
       "      <th>text</th>\n",
       "    </tr>\n",
       "  </thead>\n",
       "  <tbody>\n",
       "    <tr>\n",
       "      <th>0</th>\n",
       "      <td>2</td>\n",
       "      <td>The best soundtrack ever to anything.</td>\n",
       "      <td>I'm reading a lot of reviews saying that this ...</td>\n",
       "    </tr>\n",
       "    <tr>\n",
       "      <th>1</th>\n",
       "      <td>2</td>\n",
       "      <td>Amazing!</td>\n",
       "      <td>This soundtrack is my favorite music of all ti...</td>\n",
       "    </tr>\n",
       "    <tr>\n",
       "      <th>2</th>\n",
       "      <td>2</td>\n",
       "      <td>Excellent Soundtrack</td>\n",
       "      <td>I truly like this soundtrack and I enjoy video...</td>\n",
       "    </tr>\n",
       "    <tr>\n",
       "      <th>3</th>\n",
       "      <td>2</td>\n",
       "      <td>Remember, Pull Your Jaw Off The Floor After He...</td>\n",
       "      <td>If you've played the game, you know how divine...</td>\n",
       "    </tr>\n",
       "    <tr>\n",
       "      <th>4</th>\n",
       "      <td>2</td>\n",
       "      <td>an absolute masterpiece</td>\n",
       "      <td>I am quite sure any of you actually taking the...</td>\n",
       "    </tr>\n",
       "  </tbody>\n",
       "</table>\n",
       "</div>"
      ],
      "text/plain": [
       "   label                                              title  \\\n",
       "0      2              The best soundtrack ever to anything.   \n",
       "1      2                                           Amazing!   \n",
       "2      2                               Excellent Soundtrack   \n",
       "3      2  Remember, Pull Your Jaw Off The Floor After He...   \n",
       "4      2                            an absolute masterpiece   \n",
       "\n",
       "                                                text  \n",
       "0  I'm reading a lot of reviews saying that this ...  \n",
       "1  This soundtrack is my favorite music of all ti...  \n",
       "2  I truly like this soundtrack and I enjoy video...  \n",
       "3  If you've played the game, you know how divine...  \n",
       "4  I am quite sure any of you actually taking the...  "
      ]
     },
     "execution_count": 5,
     "metadata": {},
     "output_type": "execute_result"
    }
   ],
   "source": [
    "df_train.columns = ['label', 'title', 'text']\n",
    "df_train.head()"
   ]
  },
  {
   "cell_type": "code",
   "execution_count": 6,
   "id": "8c4c595b",
   "metadata": {
    "execution": {
     "iopub.execute_input": "2023-05-02T12:29:36.396834Z",
     "iopub.status.busy": "2023-05-02T12:29:36.396537Z",
     "iopub.status.idle": "2023-05-02T12:29:36.408577Z",
     "shell.execute_reply": "2023-05-02T12:29:36.407835Z"
    },
    "papermill": {
     "duration": 0.02566,
     "end_time": "2023-05-02T12:29:36.410819",
     "exception": false,
     "start_time": "2023-05-02T12:29:36.385159",
     "status": "completed"
    },
    "tags": []
   },
   "outputs": [
    {
     "data": {
      "text/html": [
       "<div>\n",
       "<style scoped>\n",
       "    .dataframe tbody tr th:only-of-type {\n",
       "        vertical-align: middle;\n",
       "    }\n",
       "\n",
       "    .dataframe tbody tr th {\n",
       "        vertical-align: top;\n",
       "    }\n",
       "\n",
       "    .dataframe thead th {\n",
       "        text-align: right;\n",
       "    }\n",
       "</style>\n",
       "<table border=\"1\" class=\"dataframe\">\n",
       "  <thead>\n",
       "    <tr style=\"text-align: right;\">\n",
       "      <th></th>\n",
       "      <th>label</th>\n",
       "      <th>title</th>\n",
       "      <th>text</th>\n",
       "    </tr>\n",
       "  </thead>\n",
       "  <tbody>\n",
       "    <tr>\n",
       "      <th>0</th>\n",
       "      <td>2</td>\n",
       "      <td>One of the best game music soundtracks - for a...</td>\n",
       "      <td>Despite the fact that I have only played a sma...</td>\n",
       "    </tr>\n",
       "    <tr>\n",
       "      <th>1</th>\n",
       "      <td>1</td>\n",
       "      <td>Batteries died within a year ...</td>\n",
       "      <td>I bought this charger in Jul 2003 and it worke...</td>\n",
       "    </tr>\n",
       "    <tr>\n",
       "      <th>2</th>\n",
       "      <td>2</td>\n",
       "      <td>works fine, but Maha Energy is better</td>\n",
       "      <td>Check out Maha Energy's website. Their Powerex...</td>\n",
       "    </tr>\n",
       "    <tr>\n",
       "      <th>3</th>\n",
       "      <td>2</td>\n",
       "      <td>Great for the non-audiophile</td>\n",
       "      <td>Reviewed quite a bit of the combo players and ...</td>\n",
       "    </tr>\n",
       "    <tr>\n",
       "      <th>4</th>\n",
       "      <td>1</td>\n",
       "      <td>DVD Player crapped out after one year</td>\n",
       "      <td>I also began having the incorrect disc problem...</td>\n",
       "    </tr>\n",
       "  </tbody>\n",
       "</table>\n",
       "</div>"
      ],
      "text/plain": [
       "   label                                              title  \\\n",
       "0      2  One of the best game music soundtracks - for a...   \n",
       "1      1                   Batteries died within a year ...   \n",
       "2      2              works fine, but Maha Energy is better   \n",
       "3      2                       Great for the non-audiophile   \n",
       "4      1              DVD Player crapped out after one year   \n",
       "\n",
       "                                                text  \n",
       "0  Despite the fact that I have only played a sma...  \n",
       "1  I bought this charger in Jul 2003 and it worke...  \n",
       "2  Check out Maha Energy's website. Their Powerex...  \n",
       "3  Reviewed quite a bit of the combo players and ...  \n",
       "4  I also began having the incorrect disc problem...  "
      ]
     },
     "execution_count": 6,
     "metadata": {},
     "output_type": "execute_result"
    }
   ],
   "source": [
    "df_test.columns = ['label', 'title', 'text']\n",
    "df_test.head()"
   ]
  },
  {
   "cell_type": "markdown",
   "id": "9487a3b4",
   "metadata": {
    "papermill": {
     "duration": 0.010849,
     "end_time": "2023-05-02T12:29:36.433093",
     "exception": false,
     "start_time": "2023-05-02T12:29:36.422244",
     "status": "completed"
    },
    "tags": []
   },
   "source": [
    "### Using only 50,000 texts for training and 5,000 for validation (anything I raise)"
   ]
  },
  {
   "cell_type": "code",
   "execution_count": 7,
   "id": "bb456473",
   "metadata": {
    "execution": {
     "iopub.execute_input": "2023-05-02T12:29:36.455996Z",
     "iopub.status.busy": "2023-05-02T12:29:36.455691Z",
     "iopub.status.idle": "2023-05-02T12:29:36.459722Z",
     "shell.execute_reply": "2023-05-02T12:29:36.458971Z"
    },
    "papermill": {
     "duration": 0.01919,
     "end_time": "2023-05-02T12:29:36.463228",
     "exception": false,
     "start_time": "2023-05-02T12:29:36.444038",
     "status": "completed"
    },
    "tags": []
   },
   "outputs": [],
   "source": [
    "df_train = df_train.head(100000)\n",
    "df_test = df_test.head(10000)"
   ]
  },
  {
   "cell_type": "code",
   "execution_count": 8,
   "id": "e24a117b",
   "metadata": {
    "execution": {
     "iopub.execute_input": "2023-05-02T12:29:36.486294Z",
     "iopub.status.busy": "2023-05-02T12:29:36.485938Z",
     "iopub.status.idle": "2023-05-02T12:29:36.496475Z",
     "shell.execute_reply": "2023-05-02T12:29:36.495484Z"
    },
    "papermill": {
     "duration": 0.024584,
     "end_time": "2023-05-02T12:29:36.498825",
     "exception": false,
     "start_time": "2023-05-02T12:29:36.474241",
     "status": "completed"
    },
    "tags": []
   },
   "outputs": [
    {
     "name": "stdout",
     "output_type": "stream",
     "text": [
      "2    51267\n",
      "1    48733\n",
      "Name: label, dtype: int64\n",
      "2    5124\n",
      "1    4876\n",
      "Name: label, dtype: int64\n"
     ]
    }
   ],
   "source": [
    "print(df_train['label'].value_counts())\n",
    "print(df_test['label'].value_counts())"
   ]
  },
  {
   "cell_type": "markdown",
   "id": "ffc6f50f",
   "metadata": {
    "papermill": {
     "duration": 0.010613,
     "end_time": "2023-05-02T12:29:36.520576",
     "exception": false,
     "start_time": "2023-05-02T12:29:36.509963",
     "status": "completed"
    },
    "tags": []
   },
   "source": [
    "### I'll join the title with the text because I think the title is shorter, people tend to put keywords in it"
   ]
  },
  {
   "cell_type": "code",
   "execution_count": 9,
   "id": "3f39167b",
   "metadata": {
    "execution": {
     "iopub.execute_input": "2023-05-02T12:29:36.544232Z",
     "iopub.status.busy": "2023-05-02T12:29:36.543847Z",
     "iopub.status.idle": "2023-05-02T12:29:36.714487Z",
     "shell.execute_reply": "2023-05-02T12:29:36.713605Z"
    },
    "papermill": {
     "duration": 0.185641,
     "end_time": "2023-05-02T12:29:36.717293",
     "exception": false,
     "start_time": "2023-05-02T12:29:36.531652",
     "status": "completed"
    },
    "tags": []
   },
   "outputs": [],
   "source": [
    "def concat_columns(df, col1, col2, new_col):\n",
    "    df[new_col] = df[col1].apply(str) + ' ' + df[col2].apply(str)\n",
    "    df.drop(col2, axis = 1, inplace = True)\n",
    "    return df\n",
    "\n",
    "df_train = concat_columns(df_train, 'text', 'title', 'text')\n",
    "df_test = concat_columns(df_test, 'text', 'title', 'text')"
   ]
  },
  {
   "cell_type": "markdown",
   "id": "27d00cbd",
   "metadata": {
    "papermill": {
     "duration": 0.010785,
     "end_time": "2023-05-02T12:29:36.740088",
     "exception": false,
     "start_time": "2023-05-02T12:29:36.729303",
     "status": "completed"
    },
    "tags": []
   },
   "source": [
    "### I will change the 'label' column values to 1 -> 0 and 2 -> 1"
   ]
  },
  {
   "cell_type": "code",
   "execution_count": 10,
   "id": "fd18fe96",
   "metadata": {
    "execution": {
     "iopub.execute_input": "2023-05-02T12:29:36.766462Z",
     "iopub.status.busy": "2023-05-02T12:29:36.766135Z",
     "iopub.status.idle": "2023-05-02T12:29:36.773344Z",
     "shell.execute_reply": "2023-05-02T12:29:36.772549Z"
    },
    "papermill": {
     "duration": 0.024024,
     "end_time": "2023-05-02T12:29:36.775184",
     "exception": false,
     "start_time": "2023-05-02T12:29:36.751160",
     "status": "completed"
    },
    "tags": []
   },
   "outputs": [],
   "source": [
    "df_train['label'] = df_train['label'].map({1:0, 2:1})\n",
    "df_test['label'] = df_test['label'].map({1:0, 2:1})"
   ]
  },
  {
   "cell_type": "code",
   "execution_count": 11,
   "id": "125cd5d2",
   "metadata": {
    "execution": {
     "iopub.execute_input": "2023-05-02T12:29:36.790822Z",
     "iopub.status.busy": "2023-05-02T12:29:36.790574Z",
     "iopub.status.idle": "2023-05-02T12:29:36.798473Z",
     "shell.execute_reply": "2023-05-02T12:29:36.797641Z"
    },
    "papermill": {
     "duration": 0.017715,
     "end_time": "2023-05-02T12:29:36.800251",
     "exception": false,
     "start_time": "2023-05-02T12:29:36.782536",
     "status": "completed"
    },
    "tags": []
   },
   "outputs": [
    {
     "data": {
      "text/html": [
       "<div>\n",
       "<style scoped>\n",
       "    .dataframe tbody tr th:only-of-type {\n",
       "        vertical-align: middle;\n",
       "    }\n",
       "\n",
       "    .dataframe tbody tr th {\n",
       "        vertical-align: top;\n",
       "    }\n",
       "\n",
       "    .dataframe thead th {\n",
       "        text-align: right;\n",
       "    }\n",
       "</style>\n",
       "<table border=\"1\" class=\"dataframe\">\n",
       "  <thead>\n",
       "    <tr style=\"text-align: right;\">\n",
       "      <th></th>\n",
       "      <th>label</th>\n",
       "      <th>text</th>\n",
       "    </tr>\n",
       "  </thead>\n",
       "  <tbody>\n",
       "    <tr>\n",
       "      <th>0</th>\n",
       "      <td>1</td>\n",
       "      <td>I'm reading a lot of reviews saying that this ...</td>\n",
       "    </tr>\n",
       "    <tr>\n",
       "      <th>1</th>\n",
       "      <td>1</td>\n",
       "      <td>This soundtrack is my favorite music of all ti...</td>\n",
       "    </tr>\n",
       "    <tr>\n",
       "      <th>2</th>\n",
       "      <td>1</td>\n",
       "      <td>I truly like this soundtrack and I enjoy video...</td>\n",
       "    </tr>\n",
       "    <tr>\n",
       "      <th>3</th>\n",
       "      <td>1</td>\n",
       "      <td>If you've played the game, you know how divine...</td>\n",
       "    </tr>\n",
       "    <tr>\n",
       "      <th>4</th>\n",
       "      <td>1</td>\n",
       "      <td>I am quite sure any of you actually taking the...</td>\n",
       "    </tr>\n",
       "  </tbody>\n",
       "</table>\n",
       "</div>"
      ],
      "text/plain": [
       "   label                                               text\n",
       "0      1  I'm reading a lot of reviews saying that this ...\n",
       "1      1  This soundtrack is my favorite music of all ti...\n",
       "2      1  I truly like this soundtrack and I enjoy video...\n",
       "3      1  If you've played the game, you know how divine...\n",
       "4      1  I am quite sure any of you actually taking the..."
      ]
     },
     "execution_count": 11,
     "metadata": {},
     "output_type": "execute_result"
    }
   ],
   "source": [
    "df_train.head()"
   ]
  },
  {
   "cell_type": "markdown",
   "id": "4c3b31ce",
   "metadata": {
    "papermill": {
     "duration": 0.007284,
     "end_time": "2023-05-02T12:29:36.814989",
     "exception": false,
     "start_time": "2023-05-02T12:29:36.807705",
     "status": "completed"
    },
    "tags": []
   },
   "source": [
    "### Now the data is ready for cleaning."
   ]
  },
  {
   "cell_type": "markdown",
   "id": "49a4ec93",
   "metadata": {
    "papermill": {
     "duration": 0.00719,
     "end_time": "2023-05-02T12:29:36.829682",
     "exception": false,
     "start_time": "2023-05-02T12:29:36.822492",
     "status": "completed"
    },
    "tags": []
   },
   "source": [
    "# ♻️ Data Cleaning\n",
    "---"
   ]
  },
  {
   "cell_type": "markdown",
   "id": "ff20bb43",
   "metadata": {
    "papermill": {
     "duration": 0.007175,
     "end_time": "2023-05-02T12:29:36.844260",
     "exception": false,
     "start_time": "2023-05-02T12:29:36.837085",
     "status": "completed"
    },
    "tags": []
   },
   "source": [
    "## Function to remove unwanted characters"
   ]
  },
  {
   "cell_type": "code",
   "execution_count": 12,
   "id": "507a72de",
   "metadata": {
    "execution": {
     "iopub.execute_input": "2023-05-02T12:29:36.860213Z",
     "iopub.status.busy": "2023-05-02T12:29:36.859931Z",
     "iopub.status.idle": "2023-05-02T12:29:41.781824Z",
     "shell.execute_reply": "2023-05-02T12:29:41.780134Z"
    },
    "papermill": {
     "duration": 4.933277,
     "end_time": "2023-05-02T12:29:41.784957",
     "exception": false,
     "start_time": "2023-05-02T12:29:36.851680",
     "status": "completed"
    },
    "tags": []
   },
   "outputs": [],
   "source": [
    "def clean_text(text):\n",
    "    # Remove special characters and numbers\n",
    "    text = re.sub(r'[^A-Za-zÀ-ú ]+', '', text)\n",
    "    # Analyzing the most used words below, i chose to exclude these because there are too many and are unnecessary\n",
    "    text = re.sub('book|one', '', text)\n",
    "    # Convert to lower case\n",
    "    text = text.lower()\n",
    "    # remove scores\n",
    "    text = text.translate(str.maketrans('', '', string.punctuation))\n",
    "    # Remove extra whitespace\n",
    "    text = re.sub(r'\\s+', ' ', text).strip()\n",
    "    return text\n",
    "\n",
    "# Applying the function\n",
    "df_train['text'] = df_train['text'].apply(clean_text)\n",
    "df_test['text'] = df_test['text'].apply(clean_text)"
   ]
  },
  {
   "cell_type": "markdown",
   "id": "cf3d2784",
   "metadata": {
    "papermill": {
     "duration": 0.00736,
     "end_time": "2023-05-02T12:29:41.800604",
     "exception": false,
     "start_time": "2023-05-02T12:29:41.793244",
     "status": "completed"
    },
    "tags": []
   },
   "source": [
    "## Function to remove stop words"
   ]
  },
  {
   "cell_type": "code",
   "execution_count": 13,
   "id": "231292d1",
   "metadata": {
    "execution": {
     "iopub.execute_input": "2023-05-02T12:29:41.816958Z",
     "iopub.status.busy": "2023-05-02T12:29:41.816626Z",
     "iopub.status.idle": "2023-05-02T12:30:31.194166Z",
     "shell.execute_reply": "2023-05-02T12:30:31.193236Z"
    },
    "papermill": {
     "duration": 49.388525,
     "end_time": "2023-05-02T12:30:31.196674",
     "exception": false,
     "start_time": "2023-05-02T12:29:41.808149",
     "status": "completed"
    },
    "tags": []
   },
   "outputs": [],
   "source": [
    "def remove_stopwords(texto):\n",
    "    stop_words = set(stopwords.words('english'))\n",
    "    tokens = nltk.word_tokenize(texto.lower())\n",
    "    return \" \".join([token for token in tokens if token not in stop_words])\n",
    "\n",
    "# Applying the function\n",
    "df_train['text'] = df_train['text'].apply(remove_stopwords)\n",
    "df_test['text'] = df_test['text'].apply(remove_stopwords)"
   ]
  },
  {
   "cell_type": "markdown",
   "id": "8fd56388",
   "metadata": {
    "papermill": {
     "duration": 0.007533,
     "end_time": "2023-05-02T12:30:31.212339",
     "exception": false,
     "start_time": "2023-05-02T12:30:31.204806",
     "status": "completed"
    },
    "tags": []
   },
   "source": [
    "## Function to normalize the words"
   ]
  },
  {
   "cell_type": "code",
   "execution_count": 14,
   "id": "2882d2cb",
   "metadata": {
    "execution": {
     "iopub.execute_input": "2023-05-02T12:30:31.228485Z",
     "iopub.status.busy": "2023-05-02T12:30:31.228203Z",
     "iopub.status.idle": "2023-05-02T12:31:31.317880Z",
     "shell.execute_reply": "2023-05-02T12:31:31.316905Z"
    },
    "papermill": {
     "duration": 60.100315,
     "end_time": "2023-05-02T12:31:31.320182",
     "exception": false,
     "start_time": "2023-05-02T12:30:31.219867",
     "status": "completed"
    },
    "tags": []
   },
   "outputs": [],
   "source": [
    "def normalize_text(text):\n",
    "    stemmer = SnowballStemmer(\"english\")\n",
    "    normalized_text = []\n",
    "    for word in text.split():\n",
    "        stemmed_word = stemmer.stem(word)\n",
    "        normalized_text.append(stemmed_word)\n",
    "    return ' '.join(normalized_text)\n",
    "    \n",
    "# Applying the function\n",
    "df_train['text'] = df_train['text'].apply(normalize_text)\n",
    "df_test['text'] = df_test['text'].apply(normalize_text)"
   ]
  },
  {
   "cell_type": "markdown",
   "id": "de2125d4",
   "metadata": {
    "papermill": {
     "duration": 0.00739,
     "end_time": "2023-05-02T12:31:31.335748",
     "exception": false,
     "start_time": "2023-05-02T12:31:31.328358",
     "status": "completed"
    },
    "tags": []
   },
   "source": [
    "# 📊 Top 10 most used words\n",
    "---"
   ]
  },
  {
   "cell_type": "markdown",
   "id": "480a2992",
   "metadata": {
    "papermill": {
     "duration": 0.00737,
     "end_time": "2023-05-02T12:31:31.350570",
     "exception": false,
     "start_time": "2023-05-02T12:31:31.343200",
     "status": "completed"
    },
    "tags": []
   },
   "source": [
    "## Train data"
   ]
  },
  {
   "cell_type": "code",
   "execution_count": 15,
   "id": "6b323330",
   "metadata": {
    "_kg_hide-input": true,
    "execution": {
     "iopub.execute_input": "2023-05-02T12:31:31.367568Z",
     "iopub.status.busy": "2023-05-02T12:31:31.366561Z",
     "iopub.status.idle": "2023-05-02T12:31:32.597651Z",
     "shell.execute_reply": "2023-05-02T12:31:32.596799Z"
    },
    "papermill": {
     "duration": 1.241521,
     "end_time": "2023-05-02T12:31:32.599530",
     "exception": false,
     "start_time": "2023-05-02T12:31:31.358009",
     "status": "completed"
    },
    "tags": []
   },
   "outputs": [
    {
     "data": {
      "text/plain": [
       "Text(0, 0.5, 'Frequency')"
      ]
     },
     "execution_count": 15,
     "metadata": {},
     "output_type": "execute_result"
    },
    {
     "data": {
      "image/png": "[encoded data removed]",
      "text/plain": [
       "<Figure size 1000x600 with 1 Axes>"
      ]
     },
     "metadata": {},
     "output_type": "display_data"
    }
   ],
   "source": [
    "words = []\n",
    "for text in df_train['text']:\n",
    "    words.extend(text.split())\n",
    "word_count = collections.Counter(words)\n",
    "top_words = dict(word_count.most_common(10))\n",
    "\n",
    "# Figure Size\n",
    "plt.figure(figsize = (10, 6))\n",
    "\n",
    "# Create the Barplot\n",
    "plt.bar(range(len(top_words)), list(top_words.values()), align = 'center')\n",
    "\n",
    "# Creating a y axis with words\n",
    "plt.xticks(range(len(top_words)), list(top_words.keys()))\n",
    "\n",
    "# Grid Opacity\n",
    "plt.grid(alpha = 0.5)\n",
    "\n",
    "# Title and labels\n",
    "plt.title('Top 10 most used words', fontsize = 18)\n",
    "plt.xlabel('Words')\n",
    "plt.ylabel('Frequency')"
   ]
  },
  {
   "cell_type": "markdown",
   "id": "590de4df",
   "metadata": {
    "papermill": {
     "duration": 0.007801,
     "end_time": "2023-05-02T12:31:32.615816",
     "exception": false,
     "start_time": "2023-05-02T12:31:32.608015",
     "status": "completed"
    },
    "tags": []
   },
   "source": [
    "## Test data"
   ]
  },
  {
   "cell_type": "code",
   "execution_count": 16,
   "id": "dbc4b556",
   "metadata": {
    "execution": {
     "iopub.execute_input": "2023-05-02T12:31:32.633107Z",
     "iopub.status.busy": "2023-05-02T12:31:32.632797Z",
     "iopub.status.idle": "2023-05-02T12:31:33.062744Z",
     "shell.execute_reply": "2023-05-02T12:31:33.061769Z"
    },
    "papermill": {
     "duration": 0.440731,
     "end_time": "2023-05-02T12:31:33.064614",
     "exception": false,
     "start_time": "2023-05-02T12:31:32.623883",
     "status": "completed"
    },
    "tags": []
   },
   "outputs": [
    {
     "data": {
      "text/plain": [
       "Text(0, 0.5, 'Frequency')"
      ]
     },
     "execution_count": 16,
     "metadata": {},
     "output_type": "execute_result"
    },
    {
     "data": {
      "image/png": "[encoded data removed]",
      "text/plain": [
       "<Figure size 1000x600 with 1 Axes>"
      ]
     },
     "metadata": {},
     "output_type": "display_data"
    }
   ],
   "source": [
    "words = []\n",
    "for text in df_test['text']:\n",
    "    words.extend(text.split())\n",
    "word_count = collections.Counter(words)\n",
    "top_words = dict(word_count.most_common(10))\n",
    "\n",
    "# Figure Size\n",
    "plt.figure(figsize = (10, 6))\n",
    "\n",
    "# Create the Barplot\n",
    "plt.bar(range(len(top_words)), list(top_words.values()), align = 'center')\n",
    "\n",
    "# Creating a y axis with words\n",
    "plt.xticks(range(len(top_words)), list(top_words.keys()))\n",
    "\n",
    "# Grid Opacity\n",
    "plt.grid(alpha = 0.5)\n",
    "# Title and labels\n",
    "plt.title('Top 10 most used words', fontsize = 18)\n",
    "plt.xlabel('Words')\n",
    "plt.ylabel('Frequency')"
   ]
  },
  {
   "cell_type": "markdown",
   "id": "7e1ac846",
   "metadata": {
    "papermill": {
     "duration": 0.008438,
     "end_time": "2023-05-02T12:31:33.082045",
     "exception": false,
     "start_time": "2023-05-02T12:31:33.073607",
     "status": "completed"
    },
    "tags": []
   },
   "source": [
    " # 🧬 Text processing\n",
    " ---"
   ]
  },
  {
   "cell_type": "code",
   "execution_count": 17,
   "id": "b33751af",
   "metadata": {
    "execution": {
     "iopub.execute_input": "2023-05-02T12:31:33.101039Z",
     "iopub.status.busy": "2023-05-02T12:31:33.100099Z",
     "iopub.status.idle": "2023-05-02T12:31:39.576618Z",
     "shell.execute_reply": "2023-05-02T12:31:39.575710Z"
    },
    "papermill": {
     "duration": 6.488214,
     "end_time": "2023-05-02T12:31:39.578790",
     "exception": false,
     "start_time": "2023-05-02T12:31:33.090576",
     "status": "completed"
    },
    "tags": []
   },
   "outputs": [],
   "source": [
    "# Maximum number of words to be considered in the vocabulary\n",
    "max_words = 10000 \n",
    "# Maximum number of tokens in a sequence\n",
    "max_len = 200 \n",
    "# Tokenizer\n",
    "tokenizer = Tokenizer(num_words = max_words) \n",
    "# Snap tokenizer to text data\n",
    "tokenizer.fit_on_texts(df_train['text']) \n",
    "# Converts texts into strings of numbers\n",
    "sequences_train = tokenizer.texts_to_sequences(df_train['text']) \n",
    "sequences_val = tokenizer.texts_to_sequences(df_test['text']) \n",
    "# Mapping words to indexes\n",
    "word_index = tokenizer.word_index "
   ]
  },
  {
   "cell_type": "code",
   "execution_count": 18,
   "id": "f12bf257",
   "metadata": {
    "execution": {
     "iopub.execute_input": "2023-05-02T12:31:39.598503Z",
     "iopub.status.busy": "2023-05-02T12:31:39.597962Z",
     "iopub.status.idle": "2023-05-02T12:31:40.012203Z",
     "shell.execute_reply": "2023-05-02T12:31:40.011274Z"
    },
    "papermill": {
     "duration": 0.426069,
     "end_time": "2023-05-02T12:31:40.014326",
     "exception": false,
     "start_time": "2023-05-02T12:31:39.588257",
     "status": "completed"
    },
    "tags": []
   },
   "outputs": [],
   "source": [
    "# Sequence padding\n",
    "data_train = pad_sequences(sequences_train, maxlen = max_len)\n",
    "data_val = pad_sequences(sequences_val, maxlen = max_len)"
   ]
  },
  {
   "cell_type": "markdown",
   "id": "ecfff9e6",
   "metadata": {
    "papermill": {
     "duration": 0.008366,
     "end_time": "2023-05-02T12:31:40.032133",
     "exception": false,
     "start_time": "2023-05-02T12:31:40.023767",
     "status": "completed"
    },
    "tags": []
   },
   "source": [
    "# 🤖 Model\n",
    "---"
   ]
  },
  {
   "cell_type": "code",
   "execution_count": 19,
   "id": "342fa11e",
   "metadata": {
    "execution": {
     "iopub.execute_input": "2023-05-02T12:31:40.050861Z",
     "iopub.status.busy": "2023-05-02T12:31:40.050535Z",
     "iopub.status.idle": "2023-05-02T12:31:42.877501Z",
     "shell.execute_reply": "2023-05-02T12:31:42.876746Z"
    },
    "papermill": {
     "duration": 2.841025,
     "end_time": "2023-05-02T12:31:42.881681",
     "exception": false,
     "start_time": "2023-05-02T12:31:40.040656",
     "status": "completed"
    },
    "tags": []
   },
   "outputs": [
    {
     "name": "stdout",
     "output_type": "stream",
     "text": [
      "Model: \"sequential\"\n",
      "_________________________________________________________________\n",
      " Layer (type)                Output Shape              Param #   \n",
      "=================================================================\n",
      " embedding (Embedding)       (None, 200, 16)           160000    \n",
      "                                                                 \n",
      " global_average_pooling1d (G  (None, 16)               0         \n",
      " lobalAveragePooling1D)                                          \n",
      "                                                                 \n",
      " dense (Dense)               (None, 1)                 17        \n",
      "                                                                 \n",
      "=================================================================\n",
      "Total params: 160,017\n",
      "Trainable params: 160,017\n",
      "Non-trainable params: 0\n",
      "_________________________________________________________________\n"
     ]
    }
   ],
   "source": [
    "# Create the model\n",
    "model = tf.keras.Sequential()\n",
    "model.add(Embedding(max_words, 16, input_length = max_len))\n",
    "model.add(GlobalAveragePooling1D())\n",
    "model.add(Dense(1, activation = 'sigmoid'))\n",
    "\n",
    "# Compile the model\n",
    "model.compile(loss = 'binary_crossentropy', optimizer = 'adam', metrics = ['accuracy'])\n",
    "\n",
    "# Checking summary\n",
    "model.summary()"
   ]
  },
  {
   "cell_type": "code",
   "execution_count": 20,
   "id": "9a434aa7",
   "metadata": {
    "execution": {
     "iopub.execute_input": "2023-05-02T12:31:42.902540Z",
     "iopub.status.busy": "2023-05-02T12:31:42.902208Z",
     "iopub.status.idle": "2023-05-02T12:35:05.625635Z",
     "shell.execute_reply": "2023-05-02T12:35:05.624643Z"
    },
    "papermill": {
     "duration": 202.736356,
     "end_time": "2023-05-02T12:35:05.628058",
     "exception": false,
     "start_time": "2023-05-02T12:31:42.891702",
     "status": "completed"
    },
    "tags": []
   },
   "outputs": [
    {
     "name": "stdout",
     "output_type": "stream",
     "text": [
      "Epoch 1/15\n",
      "1563/1563 [==============================] - 56s 33ms/step - loss: 0.6025 - accuracy: 0.7354 - val_loss: 0.4749 - val_accuracy: 0.8455\n",
      "Epoch 2/15\n",
      "1563/1563 [==============================] - 12s 8ms/step - loss: 0.4007 - accuracy: 0.8593 - val_loss: 0.3563 - val_accuracy: 0.8659\n",
      "Epoch 3/15\n",
      "1563/1563 [==============================] - 9s 6ms/step - loss: 0.3266 - accuracy: 0.8757 - val_loss: 0.3200 - val_accuracy: 0.8729\n",
      "Epoch 4/15\n",
      "1563/1563 [==============================] - 7s 5ms/step - loss: 0.2976 - accuracy: 0.8835 - val_loss: 0.3066 - val_accuracy: 0.8759\n",
      "Epoch 5/15\n",
      "1563/1563 [==============================] - 7s 5ms/step - loss: 0.2823 - accuracy: 0.8887 - val_loss: 0.3012 - val_accuracy: 0.8769\n",
      "Epoch 6/15\n",
      "1563/1563 [==============================] - 7s 5ms/step - loss: 0.2730 - accuracy: 0.8924 - val_loss: 0.2995 - val_accuracy: 0.8776\n",
      "Epoch 7/15\n",
      "1563/1563 [==============================] - 7s 5ms/step - loss: 0.2660 - accuracy: 0.8952 - val_loss: 0.2978 - val_accuracy: 0.8787\n",
      "Epoch 8/15\n",
      "1563/1563 [==============================] - 7s 4ms/step - loss: 0.2605 - accuracy: 0.8974 - val_loss: 0.2976 - val_accuracy: 0.8787\n",
      "Epoch 9/15\n",
      "1563/1563 [==============================] - 7s 4ms/step - loss: 0.2559 - accuracy: 0.8993 - val_loss: 0.2983 - val_accuracy: 0.8792\n",
      "Epoch 10/15\n",
      "1563/1563 [==============================] - 7s 4ms/step - loss: 0.2522 - accuracy: 0.9011 - val_loss: 0.3006 - val_accuracy: 0.8800\n",
      "Epoch 11/15\n",
      "1563/1563 [==============================] - 6s 4ms/step - loss: 0.2492 - accuracy: 0.9017 - val_loss: 0.2995 - val_accuracy: 0.8818\n",
      "Epoch 12/15\n",
      "1563/1563 [==============================] - 6s 4ms/step - loss: 0.2465 - accuracy: 0.9028 - val_loss: 0.3013 - val_accuracy: 0.8805\n",
      "Epoch 13/15\n",
      "1563/1563 [==============================] - 6s 4ms/step - loss: 0.2434 - accuracy: 0.9047 - val_loss: 0.3039 - val_accuracy: 0.8814\n",
      "Epoch 14/15\n",
      "1563/1563 [==============================] - 6s 4ms/step - loss: 0.2413 - accuracy: 0.9054 - val_loss: 0.3044 - val_accuracy: 0.8791\n",
      "Epoch 15/15\n",
      "1563/1563 [==============================] - 7s 4ms/step - loss: 0.2394 - accuracy: 0.9056 - val_loss: 0.3058 - val_accuracy: 0.8801\n"
     ]
    }
   ],
   "source": [
    "# Fit model\n",
    "history = model.fit(data_train, df_train['label'], epochs = 15, batch_size = 64, validation_data = (data_val, df_test['label']))"
   ]
  },
  {
   "cell_type": "markdown",
   "id": "3219f995",
   "metadata": {
    "papermill": {
     "duration": 0.109946,
     "end_time": "2023-05-02T12:35:05.849814",
     "exception": false,
     "start_time": "2023-05-02T12:35:05.739868",
     "status": "completed"
    },
    "tags": []
   },
   "source": [
    "# Evaluate the model\n",
    "---"
   ]
  },
  {
   "cell_type": "markdown",
   "id": "c5decdb6",
   "metadata": {
    "papermill": {
     "duration": 0.109665,
     "end_time": "2023-05-02T12:35:06.070143",
     "exception": false,
     "start_time": "2023-05-02T12:35:05.960478",
     "status": "completed"
    },
    "tags": []
   },
   "source": [
    "## Accuracy"
   ]
  },
  {
   "cell_type": "code",
   "execution_count": 21,
   "id": "8a4689f5",
   "metadata": {
    "execution": {
     "iopub.execute_input": "2023-05-02T12:35:06.291269Z",
     "iopub.status.busy": "2023-05-02T12:35:06.290923Z",
     "iopub.status.idle": "2023-05-02T12:35:06.983376Z",
     "shell.execute_reply": "2023-05-02T12:35:06.982426Z"
    },
    "papermill": {
     "duration": 0.805327,
     "end_time": "2023-05-02T12:35:06.985281",
     "exception": false,
     "start_time": "2023-05-02T12:35:06.179954",
     "status": "completed"
    },
    "tags": []
   },
   "outputs": [
    {
     "name": "stdout",
     "output_type": "stream",
     "text": [
      "Accuracy: 88.010001\n"
     ]
    }
   ],
   "source": [
    "loss, accuracy = model.evaluate(data_val, df_test['label'], verbose = 0)\n",
    "print('Accuracy: %f' % (accuracy*100))"
   ]
  },
  {
   "cell_type": "markdown",
   "id": "9ec873ce",
   "metadata": {
    "papermill": {
     "duration": 0.10952,
     "end_time": "2023-05-02T12:35:07.206716",
     "exception": false,
     "start_time": "2023-05-02T12:35:07.097196",
     "status": "completed"
    },
    "tags": []
   },
   "source": [
    "## Loss graph"
   ]
  },
  {
   "cell_type": "code",
   "execution_count": 22,
   "id": "4d1b0872",
   "metadata": {
    "execution": {
     "iopub.execute_input": "2023-05-02T12:35:07.428535Z",
     "iopub.status.busy": "2023-05-02T12:35:07.428193Z",
     "iopub.status.idle": "2023-05-02T12:35:07.669871Z",
     "shell.execute_reply": "2023-05-02T12:35:07.669016Z"
    },
    "papermill": {
     "duration": 0.354985,
     "end_time": "2023-05-02T12:35:07.671785",
     "exception": false,
     "start_time": "2023-05-02T12:35:07.316800",
     "status": "completed"
    },
    "tags": []
   },
   "outputs": [
    {
     "data": {
      "image/png": "[encoded data removed]",
      "text/plain": [
       "<Figure size 640x480 with 1 Axes>"
      ]
     },
     "metadata": {},
     "output_type": "display_data"
    }
   ],
   "source": [
    "# Loss graph\n",
    "plt.style.use('dark_background')\n",
    "plt.plot(history.history['loss'])\n",
    "plt.plot(history.history['val_loss'])\n",
    "\n",
    "plt.title('Model loss')\n",
    "plt.xlabel('Epoch')\n",
    "plt.legend(['Training', 'Validation'], loc = 'upper right')\n",
    "plt.show()"
   ]
  },
  {
   "cell_type": "markdown",
   "id": "7cbd862c",
   "metadata": {
    "papermill": {
     "duration": 0.120884,
     "end_time": "2023-05-02T12:35:07.949060",
     "exception": false,
     "start_time": "2023-05-02T12:35:07.828176",
     "status": "completed"
    },
    "tags": []
   },
   "source": [
    "## Accuracy graph"
   ]
  },
  {
   "cell_type": "code",
   "execution_count": 23,
   "id": "6ef942ff",
   "metadata": {
    "execution": {
     "iopub.execute_input": "2023-05-02T12:35:08.173527Z",
     "iopub.status.busy": "2023-05-02T12:35:08.173199Z",
     "iopub.status.idle": "2023-05-02T12:35:08.408751Z",
     "shell.execute_reply": "2023-05-02T12:35:08.407898Z"
    },
    "papermill": {
     "duration": 0.351205,
     "end_time": "2023-05-02T12:35:08.410813",
     "exception": false,
     "start_time": "2023-05-02T12:35:08.059608",
     "status": "completed"
    },
    "tags": []
   },
   "outputs": [
    {
     "data": {
      "image/png": "[encoded data removed]",
      "text/plain": [
       "<Figure size 640x480 with 1 Axes>"
      ]
     },
     "metadata": {},
     "output_type": "display_data"
    }
   ],
   "source": [
    "# Accuracy graph\n",
    "plt.style.use('dark_background')\n",
    "plt.plot(history.history['accuracy'])\n",
    "plt.plot(history.history['val_accuracy'])\n",
    "\n",
    "plt.title('Model Accuracy')\n",
    "plt.ylabel('Accuracy')\n",
    "plt.xlabel('Epoch')\n",
    "plt.legend(['Training', 'Validation'], loc = 'lower right')\n",
    "plt.show()"
   ]
  },
  {
   "cell_type": "markdown",
   "id": "eb682d99",
   "metadata": {
    "papermill": {
     "duration": 0.110577,
     "end_time": "2023-05-02T12:35:08.634834",
     "exception": false,
     "start_time": "2023-05-02T12:35:08.524257",
     "status": "completed"
    },
    "tags": []
   },
   "source": [
    "# 🏁 Thank you! Feel free to criticize! 🏁¶"
   ]
  }
 ],
 "metadata": {
  "kernelspec": {
   "display_name": "Python 3",
   "language": "python",
   "name": "python3"
  },
  "language_info": {
   "codemirror_mode": {
    "name": "ipython",
    "version": 3
   },
   "file_extension": ".py",
   "mimetype": "text/x-python",
   "name": "python",
   "nbconvert_exporter": "python",
   "pygments_lexer": "ipython3",
   "version": "3.10.10"
  },
  "papermill": {
   "default_parameters": {},
   "duration": 391.786575,
   "end_time": "2023-05-02T12:35:12.505275",
   "environment_variables": {},
   "exception": null,
   "input_path": "__notebook__.ipynb",
   "output_path": "__notebook__.ipynb",
   "parameters": {},
   "start_time": "2023-05-02T12:28:40.718700",
   "version": "2.4.0"
  }
 },
 "nbformat": 4,
 "nbformat_minor": 5
}
